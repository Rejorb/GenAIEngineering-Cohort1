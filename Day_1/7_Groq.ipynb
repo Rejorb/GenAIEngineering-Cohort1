{
 "cells": [
  {
   "cell_type": "markdown",
   "metadata": {},
   "source": [
    "### Groq Usage for LLM ###\n",
    "**Library Need**  \n",
    "To use the APIs provided by the groq platform, the library 'groq' is required.  \n",
    "Ensure to have performed 'pip install groq'  \n",
    "The API key from your Groq account would be required to execute this code\n"
   ]
  },
  {
   "cell_type": "code",
   "execution_count": 1,
   "metadata": {},
   "outputs": [],
   "source": [
    "# Import required class from Groq\n",
    "from groq import Groq\n",
    "from dotenv import load_dotenv\n",
    "\n",
    "# Initialise an client object with API key\n",
    "load_dotenv ()\n",
    "#Client = Groq ()\n",
    "\n",
    "Client = Groq (api_key='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')"
   ]
  },
  {
   "cell_type": "markdown",
   "metadata": {},
   "source": [
    "**Invoke for chat Completion**  \n",
    ">The APIs can be used for invoking LLM models available in Groq for chat completion  \n",
    ">Try with differet models and different prompt messages"
   ]
  },
  {
   "cell_type": "code",
   "execution_count": 2,
   "metadata": {},
   "outputs": [
    {
     "name": "stdout",
     "output_type": "stream",
     "text": [
      "A specific date!\n",
      "\n",
      "12th April is special for a few reasons:\n",
      "\n",
      "1. ** Yuri's Night**: 12th April is celebrated as Yuri's Night, also known as International Day of Human Spaceflight. It commemorates the first human spaceflight by Soviet cosmonaut Yuri Gagarin on April 12, 1961. This day is celebrated globally to mark the achievements in space exploration.\n",
      "2. **Cosmonautics Day**: In Russia, 12th April is also celebrated as Cosmonautics Day, a national holiday to mark the anniversary of Yuri Gagarin's pioneering spaceflight.\n",
      "3. **First Spacewalk**: On 12th April 1965, Soviet cosmonaut Alexei Leonov became the first person to conduct a spacewalk during the Voskhod 2 mission.\n",
      "4. **Other notable events**: April 12 is also the birthday of Tom Clancy, the famous American novelist known for his thriller and espionage books (born 1947). Additionally, it's the anniversary of the first launch of the space shuttle Columbia on April 12, 1981.\n",
      "\n",
      "These are just a few reasons why 12th April is a special day in the world of space exploration and beyond!\n"
     ]
    }
   ],
   "source": [
    "prompt = \"Tell me what is special about 12-Apr\"\n",
    "\n",
    "# Prompt needs to be organised as message (list of dict)\n",
    "messages=[\n",
    "    {\n",
    "        \"role\": \"user\",\n",
    "        \"content\": prompt,\n",
    "    }\n",
    "]\n",
    "completion = Client.chat.completions.create(\n",
    "    messages=messages,\n",
    "    model=\"llama3-70b-8192\",\n",
    "    # model=\"llama-3.3-70b-specdec\",\n",
    "    stop=None,\n",
    "    temperature=1.0\n",
    ")\n",
    "\n",
    "print (completion.choices[0].message.content)"
   ]
  }
 ],
 "metadata": {
  "kernelspec": {
   "display_name": ".venv",
   "language": "python",
   "name": "python3"
  },
  "language_info": {
   "codemirror_mode": {
    "name": "ipython",
    "version": 3
   },
   "file_extension": ".py",
   "mimetype": "text/x-python",
   "name": "python",
   "nbconvert_exporter": "python",
   "pygments_lexer": "ipython3",
   "version": "3.12.3"
  }
 },
 "nbformat": 4,
 "nbformat_minor": 2
}
